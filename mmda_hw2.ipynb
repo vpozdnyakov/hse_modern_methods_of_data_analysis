{
 "cells": [
  {
   "cell_type": "markdown",
   "metadata": {},
   "source": [
    "# Modern Methods of Data Analysis"
   ]
  },
  {
   "cell_type": "markdown",
   "metadata": {},
   "source": [
    "## Homework 2, Vitaliy Pozdnyakov "
   ]
  },
  {
   "cell_type": "markdown",
   "metadata": {},
   "source": [
    "### Task 2"
   ]
  },
  {
   "cell_type": "markdown",
   "metadata": {},
   "source": [
    "**Let $X ∈ \\mathcal L^1 (Ω, \\mathcal A, P)$ be such that $P(X \\neq 0) > 0$. Consider the function $m : [1, +∞) → [0, +∞]$ defined by $m(p) := E[|X|^p]$. Show that the set $\\mathcal J := \\{p ∈ [1, +∞) : m(p) < +∞\\}$ is an interval.**"
   ]
  },
  {
   "cell_type": "markdown",
   "metadata": {},
   "source": [
    "Proof via contradiction:\n",
    "\n",
    "$m(1) < +\\infty$ via definition of $\\mathcal L^1$. Now suppose that there exist $a$ and $b$ such that $1 \\leq a \\leq b < +\\infty$ and\n",
    "\n",
    "$$\\begin{cases}\n",
    "m(1) < +\\infty \\\\\n",
    "m(a) = +\\infty \\\\\n",
    "m(b) < +\\infty \\\\\n",
    "\\end{cases}\n",
    "\\Leftrightarrow\n",
    "\\begin{cases}\n",
    "X \\in \\mathcal L^1 \\\\\n",
    "X \\notin \\mathcal L^a \\\\\n",
    "X \\in \\mathcal L^b \\\\\n",
    "\\end{cases}$$\n",
    "\n",
    "Then $a \\notin \\mathcal J$ and $\\mathcal J$ is not an interval.\n",
    "\n",
    "From the previous task we know that if $a \\leq b$ then $\\mathcal L^b \\subset \\mathcal L^a$. So if $X \\in \\mathcal L^b$ then $X \\in \\mathcal L^a$, but this is contradiction. \n",
    "\n",
    "Therefore $a \\in \\mathcal J$ and $\\mathcal J$ is an interval."
   ]
  },
  {
   "cell_type": "markdown",
   "metadata": {},
   "source": [
    "### Task 4"
   ]
  },
  {
   "cell_type": "markdown",
   "metadata": {},
   "source": [
    "**Suppose that $X ∈ L^∞(Ω, \\mathcal A, P)$. Show that $\\lim_{p→+∞} \\Vert X \\Vert_p = \\Vert X \\Vert_∞$.**"
   ]
  },
  {
   "cell_type": "markdown",
   "metadata": {},
   "source": [
    "On the one side, $\\Vert X \\Vert_\\infty = \\inf\\{C>0:P(\\vert X \\vert > C) = 0\\}$ via defenition and then $|X(\\omega)| \\leq \\Vert X \\Vert_\\infty$, $P$-a.e., so\n",
    "\n",
    "$$ \\left(\\int_\\Omega \\vert X \\vert ^p dP \\right)^{1/p} \\leq \\left(\\int_\\Omega \\Vert X \\Vert^p_\\infty dP \\right)^{1/p}$$\n",
    "$$\\Rightarrow \\Vert X \\Vert_p \\leq \\left(\\Vert X \\Vert_\\infty^p P(\\Omega) \\right)^{1/p}$$\n",
    "$$\\Rightarrow \\Vert X \\Vert_p \\leq \\Vert X \\Vert_\\infty  P(\\Omega)^{1/p}$$\n",
    "\n",
    "Since $P(\\Omega)^{1/p} = 1$ by definition of a probability space, we have \n",
    "\n",
    "$$\\limsup_{p→+∞} \\Vert X \\Vert_p \\leq \\Vert X \\Vert_∞$$ \n",
    "\n",
    "On the other side, by defenition of $\\mathcal L^\\infty$, for all $\\varepsilon > 0$ there exists a probability value $a$ such that\n",
    "\n",
    "$$P(\\{\\omega : |X (\\omega)| \\geq \\Vert X \\Vert_\\infty - \\varepsilon \\}) \\geq a$$\n",
    "\n",
    "And then \n",
    "$$\\int_\\Omega |X|^p dP \\geq a(\\Vert X \\Vert_\\infty - \\varepsilon)^p$$\n",
    "\n",
    "Therefore\n",
    "$$\\liminf_{p\\rightarrow+\\infty}\\Vert X \\Vert_p \\geq \\Vert X \\Vert_\\infty - \\varepsilon$$\n",
    "\n",
    "Since $\\varepsilon$ is arbitrary, consequently we proved that \n",
    "$$\\lim_{p→+∞} \\Vert X \\Vert_p = \\Vert X \\Vert_∞$$"
   ]
  },
  {
   "cell_type": "markdown",
   "metadata": {},
   "source": [
    "### Task 6"
   ]
  },
  {
   "cell_type": "markdown",
   "metadata": {},
   "source": [
    "**Consider $X \\sim \\mathcal N(m, σ^2)$, for $m ∈ \\mathbb R$ and $σ^2 > 0$. Show that $X ∈ \\mathcal L^p (Ω, \\mathcal A, P)$, for all $p ∈ [1, +∞)$, but that $X \\notin \\mathcal L^∞(Ω, \\mathcal A, P)$.**"
   ]
  },
  {
   "cell_type": "markdown",
   "metadata": {},
   "source": [
    "Consider the moment-generating function for the random variable $|X| : \\Omega \\rightarrow \\mathbb R_+$\n",
    "\n",
    "$$M_{|X|}(t) = E[e^{t|X|}] = \\int_{\\mathbb R}e^{t|x|} \\rho d \\lambda_1 = \\int_{-\\infty}^{+\\infty} e^{t|x|} \\rho(x) dx$$\n",
    "where\n",
    "$$\\rho(x) = \\frac{1}{\\sqrt{2 \\pi \\sigma^2}} e^{-\\frac{(x-m)^2}{2 \\sigma^2}}$$\n",
    "If $X \\in \\mathcal L^p(\\Omega, \\mathcal A, P)$ then $E[|X|^p]<+\\infty$ via definition, and one of the property of the moment-generating function is $E[|X|^p] = \\frac{d^p}{dt^p}M_{|X|}(t)$ where $t = 0$. So, the proof is complete provided we can show that $$\\frac{d^p}{dt^p}M_{|X|}(t) <+\\infty$$ for all $p \\in [1, +\\infty)$ where $t = 0$."
   ]
  },
  {
   "cell_type": "markdown",
   "metadata": {},
   "source": [
    "Consider the case where $m = 0$ and $\\sigma^2 = 1$. Denote $Y \\sim \\mathcal N(0, 1)$\n",
    "$$M_{|Y|}(t) = \\int_{-\\infty}^{+\\infty}e^{t|x|}  \\frac{1}{\\sqrt{2 \\pi}} e^{-x^2/2} dx = \n",
    "\\exp\\left(\\frac{t^2}{2}\\right)\\left(\\text{erf}\\left(\\frac{t}{\\sqrt 2}\\right) + 1\\right)$$\n",
    "where $\\text{erf}(x) = \\frac{2}{\\sqrt \\pi}\\int_0^x e^{-t^2}dt$ (the error function)."
   ]
  },
  {
   "cell_type": "markdown",
   "metadata": {},
   "source": [
    "Consider only integers $p$, denoted as $n$. And then\n",
    "$$E[|Y|^n] = \n",
    "\\frac{d^n}{dt^n}\\left[\\exp\\left(\\frac{t^2}{2}\\right)\\left(\\text{erf}\\left(\\frac{t}{\\sqrt 2}\\right) + 1\\right)\\right]$$ where $t=0$.\n",
    "\n",
    "We can observe that $n$-derivation of types of functions $e^x$, $\\frac{x^m}{C}$, $\\text{erf}(x)$ and their compositions produces functions of the same types (and constants) for all $n$. So the values of these functions are less than $+\\infty$ for all $n$ with $t = 0$ and consequenly $E[|Y|^n] < +\\infty$. Next, $E[|X|^n] < +\\infty$ too because we can make the linear substitution $X = m + \\sigma Y$ and get the same inequality. Moreover, for all $p \\notin \\mathbb N$ we can find $n$ such that $p < n$, and from the Task 1 we know that if $X \\in \\mathcal L^n$ then $X \\in \\mathcal L^p$. Hence, $X ∈ \\mathcal L^p (Ω, \\mathcal A, P)$, for all $p ∈ [1, +∞)$."
   ]
  },
  {
   "cell_type": "markdown",
   "metadata": {},
   "source": [
    "Finally, for $ Y \\sim\\mathcal N(0,1)$ we can see that\n",
    "$$\\rho(x) = \\frac{1}{\\sqrt{2 \\pi}}e^{-x^2/2} > 0$$ for all $x\\in(-\\infty, +\\infty)$ and thereby there is no $C > 0$ such that $P(|Y| > C) = 0$ and consequenly $Y \\notin \\mathcal L^\\infty$. We can obtain the same result for $X$ via linear substitution."
   ]
  },
  {
   "cell_type": "markdown",
   "metadata": {},
   "source": [
    "### Task 8"
   ]
  },
  {
   "cell_type": "markdown",
   "metadata": {},
   "source": [
    "**Let $X$ be a $(0, +∞)$-valued random variables such that $X ∈ \\mathcal L^p (Ω, \\mathcal A, P)$ for some $p > 1$. For $t ∈ [1, p]$, we define $\\phi(t) := E[X^t] − E[X]^t$. Show that $\\text{Ent}[X] = \\phi'(1+) := \\lim_{p↓1}\\frac{\\phi(p) − \\phi(1)}{p − 1}$.**"
   ]
  },
  {
   "cell_type": "markdown",
   "metadata": {},
   "source": [
    "$$\\phi'(1+) := \n",
    "\\lim_{p \\downarrow 1}\\frac{\\phi(p) - \\phi(1)}{p-1} \n",
    "=\\lim_{\\Delta p \\downarrow 0}\\frac{\\phi(1 + \\Delta p) - \\phi(1)}{\\Delta p}$$\n",
    "$$=\\lim_{\\Delta p \\downarrow 0}\\frac{E[XX^{\\Delta p}] - E[X]E[X]^{\\Delta p} - E[X] + E[X]}{\\Delta p}$$\n",
    "$$=\\lim_{\\Delta p \\downarrow 0}\\frac{E[XX^{\\Delta p}] - E[X]E[X]^{\\Delta p}}{\\Delta p}$$\n",
    "$$=\\left[ \\frac{E[XX^0] - E[X]E[X]^0}{0} = \\frac{0}{0}\\right]$$"
   ]
  },
  {
   "cell_type": "markdown",
   "metadata": {},
   "source": [
    "Apply L'Hopital's rule"
   ]
  },
  {
   "cell_type": "markdown",
   "metadata": {},
   "source": [
    "$$= \n",
    "\\lim_{\\Delta p \\downarrow 0}\\frac{\\left(E[XX^{\\Delta p}] - E[X]E[X]^{\\Delta p}\\right)'}{\\Delta p'}$$\n",
    "$$=\\lim_{\\Delta p \\downarrow 0}\\left(E'[XX^{\\Delta p}] - (E[X]E[X]^{\\Delta p})'\\right)$$\n",
    "$$=\\lim_{\\Delta p \\downarrow 0}\\left(E'[XX^{\\Delta p}] - E[X]\\ln E[X]\\right)$$"
   ]
  },
  {
   "cell_type": "markdown",
   "metadata": {},
   "source": [
    "Apply the property of the expectation $E'[X] = E[X']$"
   ]
  },
  {
   "cell_type": "markdown",
   "metadata": {},
   "source": [
    "$$= \n",
    "\\lim_{\\Delta p \\downarrow 0}\\left(E\\left[(XX^{\\Delta p})'\\right] - E[X]\\ln E[X]\\right)$$\n",
    "$$=\\lim_{\\Delta p \\downarrow 0}\\left(E[X \\ln X] - E[X]\\ln E[X]\\right)$$\n",
    "$$=E[X \\ln X] - E[X]\\ln E[X] := \\text{Ent}[X]$$"
   ]
  }
 ],
 "metadata": {
  "kernelspec": {
   "display_name": "Python 3",
   "language": "python",
   "name": "python3"
  },
  "language_info": {
   "codemirror_mode": {
    "name": "ipython",
    "version": 3
   },
   "file_extension": ".py",
   "mimetype": "text/x-python",
   "name": "python",
   "nbconvert_exporter": "python",
   "pygments_lexer": "ipython3",
   "version": "3.7.4"
  }
 },
 "nbformat": 4,
 "nbformat_minor": 2
}
