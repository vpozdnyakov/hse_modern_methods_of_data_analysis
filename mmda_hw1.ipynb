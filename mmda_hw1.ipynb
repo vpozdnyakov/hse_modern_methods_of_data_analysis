{
 "cells": [
  {
   "cell_type": "markdown",
   "metadata": {},
   "source": [
    "# Modern Methods of Data Analysis"
   ]
  },
  {
   "cell_type": "markdown",
   "metadata": {},
   "source": [
    "## Homework 1, Vitaliy Pozdnyakov"
   ]
  },
  {
   "cell_type": "markdown",
   "metadata": {},
   "source": [
    "___"
   ]
  },
  {
   "cell_type": "markdown",
   "metadata": {},
   "source": [
    "### Task 1.1"
   ]
  },
  {
   "cell_type": "markdown",
   "metadata": {},
   "source": [
    "#### (1) Show that $U_A$ is indeed a positive measure"
   ]
  },
  {
   "cell_type": "markdown",
   "metadata": {},
   "source": [
    "* Check that $\\mu(\\emptyset) = 0$"
   ]
  },
  {
   "cell_type": "markdown",
   "metadata": {},
   "source": [
    "$$U_A(\\emptyset) = \n",
    "\\frac{\\lambda_d(A \\cap \\emptyset)}{\\lambda_d(A)} = \n",
    "\\frac{\\lambda_d(\\emptyset)}{\\lambda_d(A)} = \n",
    "\\frac{0}{\\lambda_d(A)} = 0 $$"
   ]
  },
  {
   "cell_type": "markdown",
   "metadata": {},
   "source": [
    "* Check the countable additivity $\\mu(A_1 \\cup A_2 \\cup \\dots) = \\mu(A_1) + \\mu(A_2) + \\dots$"
   ]
  },
  {
   "cell_type": "markdown",
   "metadata": {},
   "source": [
    "$$U_A(B_1 \\cup B_2 \\cup \\dots) = \n",
    "\\frac{\\lambda_d(A \\cap [B_1 \\cup B_2 \\cup \\dots])}{\\lambda_d(A)} =\n",
    "\\frac{\\lambda_d([A \\cap B_1] \\cup [A \\cap B_2] \\cup \\dots)}{\\lambda_d(A)} =\n",
    "\\frac{\\lambda_d(A \\cap B_1)}{\\lambda_d(A)} + \\frac{\\lambda_d(A \\cap B_2)}{\\lambda_d(A)} + \\dots =\n",
    "U_A(B_1) + U_A(B_2) + \\dots$$"
   ]
  },
  {
   "cell_type": "markdown",
   "metadata": {},
   "source": [
    "* Check the monotonicity $\\mu(B) \\leq \\mu(C)$ where $B,C \\in \\mathcal{S}$ and $B \\subset C$"
   ]
  },
  {
   "cell_type": "markdown",
   "metadata": {},
   "source": [
    "Denote $C = B \\cup \\bar{B}$, then $U_A(C) = U_A(B \\cup \\bar B) = U_A(B) + U_A(\\bar B)$"
   ]
  },
  {
   "cell_type": "markdown",
   "metadata": {},
   "source": [
    "$ U_A \\geq 0$, thereby $ U_A(B) \\leq U_A(C)$"
   ]
  },
  {
   "cell_type": "markdown",
   "metadata": {},
   "source": [
    "#### (2) Show that $ U_A \\ll \\lambda_d$"
   ]
  },
  {
   "cell_type": "markdown",
   "metadata": {},
   "source": [
    "Chose $B$ such that $\\lambda_d(B) = 0$"
   ]
  },
  {
   "cell_type": "markdown",
   "metadata": {},
   "source": [
    "Obviously, $(A \\cap B) \\subseteq B$, then via monotonicity $\\lambda_d(A\\cap B) \\leq \\lambda_d(B)$"
   ]
  },
  {
   "cell_type": "markdown",
   "metadata": {},
   "source": [
    "Thereby $$U_A(B) = \n",
    "\\frac{\\lambda_d(A \\cap B)}{\\lambda_d(A)} = \n",
    "\\frac{0}{\\lambda_d(A)} = 0$$"
   ]
  },
  {
   "cell_type": "markdown",
   "metadata": {},
   "source": [
    "#### (3) Show that both $U_A$ and $\\lambda_d$ are $\\sigma$-finite measures"
   ]
  },
  {
   "cell_type": "markdown",
   "metadata": {},
   "source": [
    "_Def. The measure $\\mu$ is called a $\\sigma$-finite if there exists subsets $\\{S_n\\}_{n\\geq1}$ such that $S_n \\in \\mathcal S, S_n \\subset S_{n+1}, \\cup_n S_n = S$ and $\\mu(S_n) < +\\infty$._"
   ]
  },
  {
   "cell_type": "markdown",
   "metadata": {},
   "source": [
    "* Consider $\\lambda_d$\n",
    "\n",
    "Let $S_n = (-n, n)^d$ where $0 \\leq n < +\\infty$. \n",
    "\n",
    "Then $S_n \\in \\mathcal B (R^d)$, $S_n \\subset S_{n+1}$, $\\cup_n S_n = R^d$ and $\\lambda_d(S_n) = (2n)^d< +\\infty$"
   ]
  },
  {
   "cell_type": "markdown",
   "metadata": {},
   "source": [
    "* Consider $U_A$ \n",
    "\n",
    "Let $A = (-m, m)^d$ and $B_n = (-n, n)^d$ where $0 \\leq n \\leq m < +\\infty$. \n",
    "\n",
    "Then $B_n \\in \\mathcal B (R^d)$, $B_n \\subset B_{n+1}$, $\\cup_n B_n = (-m, m)^d$ and"
   ]
  },
  {
   "cell_type": "markdown",
   "metadata": {},
   "source": [
    "$$U_A(B_0) = \n",
    "\\frac{\\lambda_d(A \\cap B_0)}{\\lambda_d(A)} =\n",
    "\\frac{0}{\\lambda_d(A)} = 0\n",
    "$$\n",
    "\n",
    "$$U_A(B_m) = \n",
    "\\frac{\\lambda_d(A \\cap B_m)}{\\lambda_d(A)} =\n",
    "\\frac{\\lambda_d(A)}{\\lambda_d(A)} = 1\n",
    "$$\n",
    "\n",
    "$$0 \\leq U_A(B_n) \\leq 1 < +\\infty$$"
   ]
  },
  {
   "cell_type": "markdown",
   "metadata": {},
   "source": [
    "#### (4) Give the expression of the density of $U_A$ with respect to $\\lambda_d$"
   ]
  },
  {
   "cell_type": "markdown",
   "metadata": {},
   "source": [
    "$$\\frac{dU_A}{d\\lambda_d} := f \\Rightarrow U_A(B) = \\int_B f d \\lambda_d$$"
   ]
  },
  {
   "cell_type": "markdown",
   "metadata": {},
   "source": [
    "Consider $\\lambda_d(A\\cap B)$"
   ]
  },
  {
   "cell_type": "markdown",
   "metadata": {},
   "source": [
    "$$\\lambda_d(A\\cap B) = \\int_{A\\cap B}f d \\lambda_d = \\int_B \\mathbb1_A d \\lambda_d$$"
   ]
  },
  {
   "cell_type": "markdown",
   "metadata": {},
   "source": [
    "Then $$ U_A(B)= \\frac{\\lambda_d(A \\cap B)}{\\lambda_d(A)} = \n",
    "\\frac{\\int_B \\mathbb1_A d \\lambda_d}{\\lambda_d(A)} =\n",
    "\\int_B \\frac{\\mathbb1_A}{\\lambda_d(A)}d \\lambda_d$$"
   ]
  },
  {
   "cell_type": "markdown",
   "metadata": {},
   "source": [
    "Thereby \n",
    "$$f=\\frac{\\mathbb1_A}{\\lambda_d(A)}$$ \n",
    "\n",
    "Check: \n",
    "$$ U_A(B)=\n",
    "\\int_B \\frac{\\mathbb1_A}{\\lambda_d(A)}d \\lambda_d = \\int_S \\frac{\\mathbb1_A \\mathbb1_B}{\\lambda_d(A)}d \\lambda_d = \n",
    "\\frac{\\lambda_d(A \\cap B)}{\\lambda_d(A)}$$"
   ]
  },
  {
   "cell_type": "markdown",
   "metadata": {},
   "source": [
    "#### (5) Suppose that $d = 2$ and that set $A$ is of the form $A = T([0, 1]^2) = \\{T(x) : x \\in [0, 1]^2\\}$ where $T : R^2 \\rightarrow R^2$ is defined, for all $x = (x_1, x_2) \\in R^2$, by $T(x) = (\\alpha(x_1 \\cos \\theta + x_2 \\sin \\theta), \\alpha(x_2 \\cos \\theta − x_1 \\sin \\theta))$, for some $\\theta \\in [0, 2\\pi)$ and $α > 0$. Give the explicit form of the density of $U_A$ with respect to $λ_d$."
   ]
  },
  {
   "cell_type": "markdown",
   "metadata": {},
   "source": [
    "Consider the transformation $T$"
   ]
  },
  {
   "cell_type": "markdown",
   "metadata": {},
   "source": [
    "$$T\\begin{pmatrix}x_1\\\\x_2\\end{pmatrix} = \n",
    "\\begin{pmatrix}\n",
    "    \\alpha \\cos \\theta & \\alpha \\sin \\theta \\\\ \n",
    "    − \\alpha \\sin \\theta & \\alpha \\cos \\theta \n",
    "\\end{pmatrix} \n",
    "\\begin{pmatrix}\n",
    "    x_1\\\\x_2\n",
    "\\end{pmatrix} = MX$$"
   ]
  },
  {
   "cell_type": "markdown",
   "metadata": {},
   "source": [
    "$$\\det M = \\alpha^2 (\\cos^2 \\theta + \\sin^2 \\theta) = \\alpha^2$$"
   ]
  },
  {
   "cell_type": "markdown",
   "metadata": {},
   "source": [
    "Then $$\\lambda_d(T([0, 1]^2)) = |\\det M|\\lambda_d([0,1]^2) = \\alpha^2 (1 - 0) \\cdot (1 - 0) = \\alpha^2$$"
   ]
  },
  {
   "cell_type": "markdown",
   "metadata": {},
   "source": [
    "And consequently $$\\frac{d U_A}{d \\lambda_d} = \\frac{\\mathbb1_A}{\\lambda_d(A)} = \\frac{\\mathbb1_A}{\\alpha^2}$$ where $A = T([0, 1]^2)$"
   ]
  },
  {
   "cell_type": "markdown",
   "metadata": {},
   "source": [
    "#### (6) Recall that the counting measure $\\eta$ on $(R^d, \\mathcal B(R^d))$ is defined for any $A \\in \\mathcal B(R^d)$ by $\\eta(A) = card(A)$ (i.e. $\\eta(A)$ is the number of elements in $A$). Show that $\\eta$ is not $\\sigma$-finite."
   ]
  },
  {
   "cell_type": "markdown",
   "metadata": {},
   "source": [
    "Consider the sequence $S_1, S_2, \\dots$ where $S_n \\subset S_{n+1}$. If $S_1 \\cup S_2 \\cup \\dots = R^d$, then at least one $S_i$ is open or closed segment and $\\eta(S_i) = +\\infty$. Thereby $\\eta(A)$ is not $\\sigma$-finite."
   ]
  },
  {
   "cell_type": "markdown",
   "metadata": {},
   "source": [
    "#### Show that $\\lambda_d \\ll \\eta$."
   ]
  },
  {
   "cell_type": "markdown",
   "metadata": {},
   "source": [
    "$\\eta(B) = 0$ iff $B = \\emptyset$ and $\\lambda_d(\\emptyset)=0$, then $\\lambda_d \\ll \\eta$"
   ]
  },
  {
   "cell_type": "markdown",
   "metadata": {},
   "source": [
    "#### Show that $\\lambda_d$ does not have a density with respect to $\\eta$: there exists no measurable and positive function $f : R^d \\rightarrow R^+$ such that\n",
    "$$\\lambda_d(A)=\\int_A f d\\eta$$"
   ]
  },
  {
   "cell_type": "markdown",
   "metadata": {},
   "source": [
    "Suppose that $\\lambda_d$ have a density with respect to $\\eta$. Consider arbitrary point $x \\in R^d$"
   ]
  },
  {
   "cell_type": "markdown",
   "metadata": {},
   "source": [
    "$$\\lambda_d(\\{x\\}) = 0 \\Rightarrow \\lambda_d(\\{x\\}) = \\int_{\\{x\\}}fd\\eta = \\int_{R^d}\\mathbb 1_{\\{x\\}} f d\\eta = 0 \\Rightarrow f = 0$$ "
   ]
  },
  {
   "cell_type": "markdown",
   "metadata": {},
   "source": [
    "But it means that for all $A \\in \\mathcal B(R^d)$\n",
    "$$\\lambda_d(A) = 0$$\n",
    "and it is contradition. \n",
    "\n",
    "Thereby $\\lambda_d$ does not have a density with respect to $\\eta$."
   ]
  }
 ],
 "metadata": {
  "kernelspec": {
   "display_name": "Python 3",
   "language": "python",
   "name": "python3"
  },
  "language_info": {
   "codemirror_mode": {
    "name": "ipython",
    "version": 3
   },
   "file_extension": ".py",
   "mimetype": "text/x-python",
   "name": "python",
   "nbconvert_exporter": "python",
   "pygments_lexer": "ipython3",
   "version": "3.7.4"
  }
 },
 "nbformat": 4,
 "nbformat_minor": 2
}
